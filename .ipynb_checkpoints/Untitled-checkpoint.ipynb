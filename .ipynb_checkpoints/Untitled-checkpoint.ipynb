{
 "cells": [
  {
   "cell_type": "code",
   "execution_count": 4,
   "id": "b00ce443-65c1-4d47-aef0-521dde86d38a",
   "metadata": {},
   "outputs": [
    {
     "name": "stdout",
     "output_type": "stream",
     "text": [
      "#!/bin/sh\n",
      "#\n",
      "# You can use this script to launch Redis and minio on Kubernetes\n",
      "# and forward their connections to your local computer. That means\n",
      "# you can then work on your worker-server.py and rest-server.py\n",
      "# on your local computer rather than pushing to Kubernetes with each change.\n",
      "#\n",
      "# To kill the port-forward processes us e.g. \"ps augxww | grep port-forward\"\n",
      "# to identify the processes ids\n",
      "#\n",
      "kubectl create namespace waveseparate\n",
      "kubectl config set-context --current --namespace=waveseparate\n",
      "\n",
      "kubectl -n waveseparate apply -f redis/redis-deployment.yaml\n",
      "kubectl -n waveseparate apply -f redis/redis-service.yaml\n",
      "\n",
      "kubectl -n waveseparate apply -f rest/rest-deployment.yaml\n",
      "kubectl -n waveseparate apply -f rest/rest-service.yaml\n",
      "kubectl -n waveseparate apply -f rest/rest-ingress.yaml\n",
      "\n",
      "kubectl -n waveseparate apply -f logs/logs-deployment.yaml\n",
      "\n",
      "kubectl -n waveseparate apply -f worker/worker-deployment.yaml\n",
      "\n",
      "kubectl -n waveseparate apply -f mysql-pv.yaml\n",
      "kubectl -n waveseparate apply -f mysql-pvc.yaml\n",
      "kubectl -n waveseparate apply -f mysql/mysql-deployment.yaml\n",
      "kubectl -n waveseparate apply -f mysql/mysql-service.yaml\n",
      "\n",
      "kubectl -n waveseparate apply -f minio/minio-external-service.yaml\n",
      "\n",
      "\n",
      "kubectl port-forward --address 0.0.0.0 service/redis 6379:6379 &\n",
      "\n",
      "sleep 10\n",
      "# If you're using minio from the kubernetes tutorial this will forward those\n",
      "kubectl port-forward -n minio-ns --address 0.0.0.0 service/minio-proj 9000:9000 &\n",
      "kubectl port-forward -n minio-ns --address 0.0.0.0 service/minio-proj 9001:9001 &namespace/waveseparate created\n",
      "Context \"docker-desktop\" modified.\n",
      "deployment.apps/redis created\n",
      "service/redis created\n",
      "deployment.apps/rest-deployment created\n",
      "service/rest-svc created\n",
      "ingress.networking.k8s.io/frontend-ingress created\n",
      "deployment.apps/logs created\n",
      "deployment.apps/worker-deployment created\n",
      "deployment.apps/mysql created\n",
      "service/mysql created\n",
      "service/minio created\n"
     ]
    },
    {
     "name": "stderr",
     "output_type": "stream",
     "text": [
      "error: the path \"mysql-pv.yaml\" does not exist\n",
      "error: the path \"mysql-pvc.yaml\" does not exist\n",
      "error: unable to forward port because pod is not running. Current status=Pending\n",
      "Unable to listen on port 9001: Listeners failed to create with the following errors: [unable to create listener: Error listen tcp4 0.0.0.0:9001: bind: Only one usage of each socket address (protocol/network address/port) is normally permitted.]\n",
      "error: unable to listen on any of the requested ports: [{9001 9001}]\n",
      "Unable to listen on port 9000: Listeners failed to create with the following errors: [unable to create listener: Error listen tcp4 0.0.0.0:9000: bind: Only one usage of each socket address (protocol/network address/port) is normally permitted.]\n",
      "error: unable to listen on any of the requested ports: [{9000 9000}]\n"
     ]
    }
   ],
   "source": [
    "%%sh\n",
    "cat deploy-local-dev.sh \n",
    "./deploy-local-dev.sh"
   ]
  },
  {
   "cell_type": "code",
   "execution_count": null,
   "id": "aa1f2255-26bd-41d1-9583-149deda5f322",
   "metadata": {},
   "outputs": [],
   "source": []
  }
 ],
 "metadata": {
  "kernelspec": {
   "display_name": "Python 3",
   "language": "python",
   "name": "python3"
  },
  "language_info": {
   "codemirror_mode": {
    "name": "ipython",
    "version": 3
   },
   "file_extension": ".py",
   "mimetype": "text/x-python",
   "name": "python",
   "nbconvert_exporter": "python",
   "pygments_lexer": "ipython3",
   "version": "3.8.8"
  }
 },
 "nbformat": 4,
 "nbformat_minor": 5
}
