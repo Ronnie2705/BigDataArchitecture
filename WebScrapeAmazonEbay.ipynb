{
 "cells": [
  {
   "cell_type": "code",
   "execution_count": 5,
   "id": "561b1110",
   "metadata": {},
   "outputs": [
    {
     "name": "stdout",
     "output_type": "stream",
     "text": [
      "Requirement already satisfied: requests in c:\\users\\simran shah\\appdata\\local\\programs\\python\\python310\\lib\\site-packages (2.28.2)\n",
      "Requirement already satisfied: certifi>=2017.4.17 in c:\\users\\simran shah\\appdata\\local\\programs\\python\\python310\\lib\\site-packages (from requests) (2022.12.7)\n",
      "Requirement already satisfied: urllib3<1.27,>=1.21.1 in c:\\users\\simran shah\\appdata\\local\\programs\\python\\python310\\lib\\site-packages (from requests) (1.26.14)\n",
      "Requirement already satisfied: charset-normalizer<4,>=2 in c:\\users\\simran shah\\appdata\\local\\programs\\python\\python310\\lib\\site-packages (from requests) (3.0.1)\n",
      "Requirement already satisfied: idna<4,>=2.5 in c:\\users\\simran shah\\appdata\\local\\programs\\python\\python310\\lib\\site-packages (from requests) (3.4)\n"
     ]
    },
    {
     "name": "stderr",
     "output_type": "stream",
     "text": [
      "WARNING: You are using pip version 21.3.1; however, version 23.0.1 is available.\n",
      "You should consider upgrading via the 'C:\\Users\\Simran Shah\\AppData\\Local\\Programs\\Python\\Python310\\python.exe -m pip install --upgrade pip' command.\n"
     ]
    },
    {
     "name": "stdout",
     "output_type": "stream",
     "text": [
      "Requirement already satisfied: bs4 in c:\\users\\simran shah\\appdata\\local\\programs\\python\\python310\\lib\\site-packages (0.0.1)\n",
      "Requirement already satisfied: beautifulsoup4 in c:\\users\\simran shah\\appdata\\local\\programs\\python\\python310\\lib\\site-packages (from bs4) (4.11.2)\n",
      "Requirement already satisfied: soupsieve>1.2 in c:\\users\\simran shah\\appdata\\local\\programs\\python\\python310\\lib\\site-packages (from beautifulsoup4->bs4) (2.4)\n"
     ]
    },
    {
     "name": "stderr",
     "output_type": "stream",
     "text": [
      "WARNING: You are using pip version 21.3.1; however, version 23.0.1 is available.\n",
      "You should consider upgrading via the 'C:\\Users\\Simran Shah\\AppData\\Local\\Programs\\Python\\Python310\\python.exe -m pip install --upgrade pip' command.\n"
     ]
    },
    {
     "name": "stdout",
     "output_type": "stream",
     "text": [
      "Requirement already satisfied: pymongo in c:\\users\\simran shah\\appdata\\local\\programs\\python\\python310\\lib\\site-packages (4.3.3)\n",
      "Requirement already satisfied: dnspython<3.0.0,>=1.16.0 in c:\\users\\simran shah\\appdata\\local\\programs\\python\\python310\\lib\\site-packages (from pymongo) (2.3.0)\n"
     ]
    },
    {
     "name": "stderr",
     "output_type": "stream",
     "text": [
      "WARNING: You are using pip version 21.3.1; however, version 23.0.1 is available.\n",
      "You should consider upgrading via the 'C:\\Users\\Simran Shah\\AppData\\Local\\Programs\\Python\\Python310\\python.exe -m pip install --upgrade pip' command.\n"
     ]
    },
    {
     "name": "stdout",
     "output_type": "stream",
     "text": [
      "Requirement already satisfied: fake_useragent in c:\\users\\simran shah\\appdata\\local\\programs\\python\\python310\\lib\\site-packages (1.1.1)\n"
     ]
    },
    {
     "name": "stderr",
     "output_type": "stream",
     "text": [
      "WARNING: You are using pip version 21.3.1; however, version 23.0.1 is available.\n",
      "You should consider upgrading via the 'C:\\Users\\Simran Shah\\AppData\\Local\\Programs\\Python\\Python310\\python.exe -m pip install --upgrade pip' command.\n"
     ]
    }
   ],
   "source": [
    "!pip3 install requests\n",
    "!pip3 install bs4\n",
    "!pip install pymongo\n",
    "!pip install fake_useragent"
   ]
  },
  {
   "cell_type": "code",
   "execution_count": 6,
   "id": "3bf01746",
   "metadata": {},
   "outputs": [],
   "source": [
    "import requests\n",
    "from bs4 import BeautifulSoup\n",
    "from pymongo import MongoClient"
   ]
  },
  {
   "cell_type": "code",
   "execution_count": 3,
   "id": "36fba401",
   "metadata": {},
   "outputs": [],
   "source": [
    "client = MongoClient('')"
   ]
  },
  {
   "cell_type": "code",
   "execution_count": 4,
   "id": "6a4c0912",
   "metadata": {},
   "outputs": [],
   "source": [
    "db = client['BeyondPrice']\n",
    "products = db['Products']"
   ]
  },
  {
   "cell_type": "code",
   "execution_count": 7,
   "id": "03949e4e",
   "metadata": {},
   "outputs": [],
   "source": [
    "# laptops_list_hp_amazon = [\n",
    "# 'https://www.amazon.com/dp/B01J24H2K0/ref=vp_d_ac_sub_sp_pd?_encoding=UTF8&pf_rd_p=d7[…]4991d6f7038&pd_rd_r=7e5e62b0-0e9a-42cf-a358-ae0a49b91f5e&th=1'\n",
    "# ]"
   ]
  },
  {
   "cell_type": "code",
   "execution_count": 8,
   "id": "1ad7127d",
   "metadata": {},
   "outputs": [],
   "source": [
    "# laptops_list_hp_ebay = [\n",
    "# 'https://www.ebay.com/itm/334756920660?hash=item4df1113d54:g:4boAAOSw0vZj89Yv&amdata=enc%3AAQAHAAAA8GZpbpDqvcYP8NxADxh%2FRTW9CGV93QWwvzCFiyGYV%2FyWceojqF72qBwU3iYPv0OyBRp5IxkwP%2BY3AZM5R32zQMqz8wGHM8kQeifWqHttDYojePgC1lzi9YuuThAbX7%2BgEV0f%2Bjneh4aQ2n2ny0FcrMH6qpAqfgEAQ0o82nt3SR2CYklt8uwDpqbW97ZoGBDE5nu%2FcvC9RRWaDDUqvr0NbTr5b2LC8uhjJlK6uwJAqF5OapdIdK20gYwMEbFEsmGO9aV3OrZFbOn5tya539A4SXR7caLi6HWPvZ4THXLrzKkE1oaFAqZaGs6t41A18oWwJQ%3D%3D%7Ctkp%3ABk9SR-6ehZ3SYQ'\n",
    "# ]"
   ]
  },
  {
   "cell_type": "code",
   "execution_count": 9,
   "id": "cd21dccf",
   "metadata": {},
   "outputs": [],
   "source": [
    "from time import sleep\n",
    "import urllib.request\n",
    "from fake_useragent import UserAgent\n",
    "\n",
    "def web_scrape_info(url_list_amazon, url_list_ebay):\n",
    "    product_dict = {}\n",
    "    \n",
    "    headers = {'User-Agent': 'Mozilla/5.0 (Macintosh; Intel Mac OS X 10_10_1) AppleWebKit/537.36 (KHTML, like Gecko) Chrome/39.0.2171.95 Safari/537.36'}\n",
    "    ua=UserAgent()\n",
    "    hdr = {'User-Agent': ua.random,\n",
    "      'Accept': 'text/html,application/xhtml+xml,application/xml;q=0.9,*/*;q=0.8',\n",
    "      'Accept-Charset': 'ISO-8859-1,utf-8;q=0.7,*;q=0.3',\n",
    "      'Accept-Encoding': 'none',\n",
    "      'Accept-Language': 'en-US,en;q=0.8',\n",
    "      'Connection': 'keep-alive'}\n",
    "    \n",
    "    for i in range(len(url_list_amazon)):\n",
    "    \n",
    "        html = requests.get(url_list_amazon[i], headers=hdr)\n",
    "        soup = BeautifulSoup(html.content, 'html.parser')\n",
    "\n",
    "        #Id\n",
    "        product_dict['_id'] = \"Dell\"+str(1)\n",
    "\n",
    "        #Product ID\n",
    "        product_id = soup.find('input', {'id':\"ASIN\"})['value']\n",
    "        print('Product ID: ',product_id)\n",
    "        product_dict['Product_ID'] = product_id \n",
    "\n",
    "        #Category\n",
    "        product_dict['Category'] = 'Laptops'\n",
    "\n",
    "        #Category ID\n",
    "        product_dict['Category ID'] = 'C04'\n",
    "\n",
    "        #Brand\n",
    "        product_dict['Brand'] = 'Dell'\n",
    "\n",
    "        #Product Name\n",
    "        product_name = soup.find('span', {'id' : \"productTitle\"}).text.strip()\n",
    "        print(product_name)\n",
    "        product_dict['Product_Name'] = product_name\n",
    "\n",
    "        #Price\n",
    "        price = soup.find_all('span', class_ =\"a-offscreen\")[0]\n",
    "        print('Price: ', price.text)\n",
    "        product_dict['Price'] = price.text\n",
    "\n",
    "        #Image URL\n",
    "        image_url = soup.find('div', {'id' : \"imgTagWrapperId\"})\n",
    "        print('Image URL', image_url.find('img')['src'])\n",
    "        product_dict['Image URL'] = image_url.find('img')['src']\n",
    "\n",
    "        #Amazon URL\n",
    "        product_dict['Amazon_URL'] = url_list_amazon[i]\n",
    "\n",
    "        #Ebay URL\n",
    "        product_dict['Ebay_URL'] = url_list_ebay[i]\n",
    "\n",
    "        #Reviews (getting url of all the reviews \"See All\")\n",
    "        see_all_reviews_url = soup.find('div', {'id' : \"reviews-medley-footer\"})\n",
    "        url_reviews = 'https://www.amazon.com'+see_all_reviews_url.find('a')['href']\n",
    "        print('Reviews URL: ',url_reviews)\n",
    "\n",
    "        html_reviews = requests.get(url_reviews, headers=hdr)\n",
    "        soup_reviews = BeautifulSoup(html_reviews.text)\n",
    "\n",
    "        #Reviews\n",
    "        review_info = soup_reviews.find(\"div\", {\"data-hook\": \"cr-filter-info-review-rating-count\"}).text.strip()\n",
    "        total_no_reviews = int(review_info.split('total ratings,')[1].strip().split(' ')[0].replace(',',''))\n",
    "        print('Total No. of reviews: ',total_no_reviews)\n",
    "        reviews = []\n",
    "        for review in soup_reviews.find_all(\"span\", {\"data-hook\": \"review-body\"}):\n",
    "            reviews.append(review.get_text().replace('\\n',''))\n",
    "\n",
    "        #For pagination of reviews\n",
    "        n=2\n",
    "        if total_no_reviews > 10:\n",
    "            mid_url=soup_reviews.find(\"div\", {\"id\" : \"cm_cr-pagination_bar\"}).find('a')['href']\n",
    "            print(\"MID URL: \",mid_url)\n",
    "            next_url = 'https://www.amazon.com'+mid_url\n",
    "            while n<=4:\n",
    "                try:\n",
    "                    html_next = requests.get(next_url, headers=hdr)\n",
    "                    soup_next = BeautifulSoup(html_next.text)\n",
    "                    reviews_count_page = soup_next.find_all(\"span\", {\"data-hook\": \"review-body\"})\n",
    "                    for review in reviews_count_page:\n",
    "                        reviews.append(review.get_text().replace('\\n',''))\n",
    "                    if len(reviews_count_page) == 10:\n",
    "                        #if (total_no_reviews % 10 != 0):\n",
    "                        next_url = 'https://www.amazon.com'+soup_next.find(\"div\", {\"id\" : \"cm_cr-pagination_bar\"}).find('li', class_ =\"a-last\").find('a')['href']\n",
    "                    n+=1\n",
    "                except requests.exceptions.ConnectionError as e:\n",
    "                    print(e)\n",
    "            print('Size of list reviews: ',len(reviews))\n",
    "            product_dict['Reviews'] = reviews\n",
    "            product_id = products.insert_one(product_dict)\n",
    "\n",
    "    return "
   ]
  },
  {
   "cell_type": "code",
   "execution_count": 10,
   "id": "6e8fd1f4",
   "metadata": {},
   "outputs": [
    {
     "name": "stdout",
     "output_type": "stream",
     "text": [
      "Product ID:  B01J24H2K0\n",
      "Amazon Basics Carry-On Travel Backpack - Black\n",
      "Price:  $49.49\n"
     ]
    }
   ],
   "source": [
    "web_scrape_info(laptops_list_hp_amazon, laptops_list_hp_ebay)"
   ]
  },
  {
   "cell_type": "code",
   "execution_count": 6,
   "id": "d63d2326",
   "metadata": {},
   "outputs": [
    {
     "data": {
      "text/plain": [
       "['Credentials', 'Products']"
      ]
     },
     "execution_count": 6,
     "metadata": {},
     "output_type": "execute_result"
    }
   ],
   "source": [
    "db.list_collection_names()"
   ]
  },
  {
   "cell_type": "code",
   "execution_count": 100,
   "id": "58a440ef",
   "metadata": {},
   "outputs": [],
   "source": [
    "s = db.Products.find({\"Category\":\"Mobiles\"})"
   ]
  },
  {
   "cell_type": "code",
   "execution_count": 101,
   "id": "c2781091",
   "metadata": {},
   "outputs": [
    {
     "name": "stdout",
     "output_type": "stream",
     "text": [
      "[740.0, 822.26, 529.99, 194.99, 639.0, 364.99, 419.0, 84.0, 299.0, 749.0, 49.99, 148.72, 249.99, 169.99, 249.99, 82.99]\n",
      "Min price: 49.99\n",
      "Max price: 822.26\n",
      "Avg price: 362.12\n",
      "Before avg:  9\n",
      "After avg:  7\n"
     ]
    }
   ],
   "source": [
    "from statistics import mean \n",
    "price = []\n",
    "for i in s:\n",
    "    price.append(float(i['Price'][1:].replace(',','')))\n",
    "print(price)\n",
    "avg = round(mean(price),2)\n",
    "print('Min price:',min(price))\n",
    "print('Max price:',max(price))\n",
    "print('Avg price:',avg)\n",
    "\n",
    "count_before_avg = 0\n",
    "count_after_avg = 0\n",
    "for p in price:\n",
    "    if p <= avg:\n",
    "        count_before_avg += 1\n",
    "    else:\n",
    "        count_after_avg += 1\n",
    "print('Before avg: ', count_before_avg)\n",
    "print('After avg: ', count_after_avg)"
   ]
  },
  {
   "cell_type": "code",
   "execution_count": 10,
   "id": "11d3d7ac",
   "metadata": {},
   "outputs": [
    {
     "data": {
      "text/plain": [
       "<pymongo.results.UpdateResult at 0x20ee6687640>"
      ]
     },
     "execution_count": 10,
     "metadata": {},
     "output_type": "execute_result"
    }
   ],
   "source": [
    "db.products.update_many({'Category ID': 'C01'},\n",
    "                       {'$set' : {'Category' : 'Shoes'}        \n",
    "})\n",
    "\n",
    "myquery = {'Category ID': 'C01'}\n",
    "\n",
    "newvalues = {'$set' : {'Category' : 'Shoes'}}\n",
    "\n",
    "x = mycol.update_many(myquery, newvalues)\n",
    "\n",
    "print(x.modified_count, \"documents updated.\")\n"
   ]
  },
  {
   "cell_type": "code",
   "execution_count": 12,
   "id": "729ac65e",
   "metadata": {},
   "outputs": [
    {
     "name": "stdout",
     "output_type": "stream",
     "text": [
      "Sorted list:  [{'Brand': 'TCL', 'Product_Name': 'TCL 20 Pro 5G Unlocked Smartphone with 6.67” AMOLED FHD+ Display, 48MP OIS Quad Camera, 6GB+256GB, 4500mAh Battery, US 5G Verizon Cellphone, Marine Blue (Does not Support AT&T 5G)', 'price': '$249.99', 'Image_URL': 'https://m.media-amazon.com/images/I/81-iFZ14NGS.__AC_SX300_SY300_QL70_ML2_.jpg', 'Sentiment Score': 0.5978852348993287}, {'Brand': 'Google', 'Product_Name': 'Google Pixel 6a - 5G Android Phone - Unlocked Smartphone with 12 Megapixel Camera and 24-Hour Battery - Sage', 'price': '$299.00', 'Image_URL': 'https://m.media-amazon.com/images/W/IMAGERENDERING_521856-T2/images/I/61dNAU6PgxL.__AC_SX300_SY300_QL70_ML2_.jpg', 'Sentiment Score': 0.5569153333333335}, {'Brand': 'OnePlus', 'Product_Name': 'OnePlus Nord N20 5G |Android Smart Phone |6.43\" AMOLED Display|6+128GB |U.S. Unlocked |4500 mAh Battery | 33W Fast Charging | Blue Smoke', 'price': '$249.99', 'Image_URL': 'https://m.media-amazon.com/images/I/71hIjJkMqFL.__AC_SX300_SY300_QL70_ML2_.jpg', 'Sentiment Score': 0.5528646666666668}, {'Brand': 'Samsung', 'Product_Name': 'Samsung Galaxy S21 5G, US Version, 128GB, Phantom Gray - Unlocked (Renewed)', 'price': '$194.99', 'Image_URL': 'https://m.media-amazon.com/images/W/IMAGERENDERING_521856-T1/images/I/61jYjeuNUnL.__AC_SX300_SY300_QL70_ML2_.jpg', 'Sentiment Score': 0.491357333333333}, {'Brand': 'Motorola', 'Product_Name': 'Moto G Play | 2021 | 3-Day battery | Unlocked | Made for US by Motorola | 3/32GB | 13MP Camera | Blue', 'price': '$148.72', 'Image_URL': 'https://m.media-amazon.com/images/W/IMAGERENDERING_521856-T2/images/I/61FTAE2vtCL.__AC_SX300_SY300_QL70_ML2_.jpg', 'Sentiment Score': 0.4876833333333332}]\n"
     ]
    }
   ],
   "source": [
    "from pymongo import MongoClient\n",
    "client = MongoClient('')\n",
    "\n",
    "db = client['BeyondPrice']\n",
    "products = db['Products']\n",
    "\n",
    "list_products = []\n",
    "product_category = products.find({\"Category\":\"Mobiles\"})\n",
    "\n",
    "for prod in product_category:\n",
    "    prod_price = float(prod['Price'][1:].replace(',',''))\n",
    "    if 45.00 <= prod_price <= 362.12:\n",
    "        prod_spec = {}\n",
    "        prod_spec['Brand'] = prod['Brand']\n",
    "        prod_spec['Product_Name'] = prod['Product_Name']\n",
    "        prod_spec['price'] = prod['Price']\n",
    "        prod_spec['Image_URL'] = prod['Image URL']\n",
    "        prod_spec['Sentiment Score'] = prod['sentiment_score_vd']\n",
    "        list_products.append(prod_spec)\n",
    "#print(list_products)\n",
    "#print('len',len(list_products))\n",
    "newlist = sorted(list_products, key=lambda d: d['Sentiment Score'], reverse=True) \n",
    "print('Sorted list: ', newlist[0:5])"
   ]
  },
  {
   "cell_type": "code",
   "execution_count": null,
   "id": "f077912d",
   "metadata": {},
   "outputs": [],
   "source": []
  },
  {
   "cell_type": "code",
   "execution_count": 39,
   "id": "d6a733a2",
   "metadata": {},
   "outputs": [],
   "source": [
    "from fake_useragent import UserAgent\n",
    "import requests\n",
    "from bs4 import BeautifulSoup\n",
    "def web_scrape_ebay(ebay_url):\n",
    "\n",
    "    headers = {'User-Agent': 'Mozilla/5.0 (Macintosh; Intel Mac OS X 10_10_1) AppleWebKit/537.36 (KHTML, like Gecko) Chrome/39.0.2171.95 Safari/537.36'}\n",
    "    ua=UserAgent()\n",
    "    hdr = {'User-Agent': ua.random,\n",
    "      'Accept': 'text/html,application/xhtml+xml,application/xml;q=0.9,*/*;q=0.8',\n",
    "      'Accept-Charset': 'ISO-8859-1,utf-8;q=0.7,*;q=0.3',\n",
    "      'Accept-Encoding': 'none',\n",
    "      'Accept-Language': 'en-US,en;q=0.8',\n",
    "      'Connection': 'keep-alive'}\n",
    "    \n",
    "    html = requests.get(ebay_url, headers=hdr)\n",
    "    soup = BeautifulSoup(html.content, 'html.parser')\n",
    "\n",
    "    #Price\n",
    "    msg = soup.find('span', class_ =\"ux-textspans ux-textspans--BOLD\")\n",
    "    print(msg.text)\n",
    "    if msg.text == 'Seller information':\n",
    "        price_eb = soup.find('span', {'itemprop':\"price\"}).text.strip()\n",
    "        print(price_eb[3:])\n",
    "    else:\n",
    "        price_eb = 'The item is no longer available'\n",
    "        print(price_eb)\n",
    "        \n",
    "        "
   ]
  },
  {
   "cell_type": "code",
   "execution_count": 40,
   "id": "2e0bd7db",
   "metadata": {},
   "outputs": [
    {
     "name": "stdout",
     "output_type": "stream",
     "text": [
      "Seller information\n",
      "$93.80\n"
     ]
    }
   ],
   "source": [
    "t = web_scrape_ebay('https://www.ebay.com/itm/255356292175?hash=item3b746bcc4f%3Ag%3AlIMAAOSwfcZh86Xr&am[…]NJIAaM1HEGG0E8Rz2%7Ctkp%3ABk9SR77alrHTYQ&LH_ItemCondition=1000')"
   ]
  },
  {
   "cell_type": "code",
   "execution_count": null,
   "id": "17f25e1b",
   "metadata": {},
   "outputs": [],
   "source": []
  }
 ],
 "metadata": {
  "kernelspec": {
   "display_name": "Python 3 (ipykernel)",
   "language": "python",
   "name": "python3"
  },
  "language_info": {
   "codemirror_mode": {
    "name": "ipython",
    "version": 3
   },
   "file_extension": ".py",
   "mimetype": "text/x-python",
   "name": "python",
   "nbconvert_exporter": "python",
   "pygments_lexer": "ipython3",
   "version": "3.10.2"
  }
 },
 "nbformat": 4,
 "nbformat_minor": 5
}
