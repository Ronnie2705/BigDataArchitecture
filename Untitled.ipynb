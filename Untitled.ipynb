{
 "cells": [
  {
   "cell_type": "code",
   "execution_count": 1,
   "id": "b00ce443-65c1-4d47-aef0-521dde86d38a",
   "metadata": {},
   "outputs": [
    {
     "name": "stdout",
     "output_type": "stream",
     "text": [
      "#!/bin/sh\n",
      "#\n",
      "# You can use this script to launch Redis and minio on Kubernetes\n",
      "# and forward their connections to your local computer. That means\n",
      "# you can then work on your worker-server.py and rest-server.py\n",
      "# on your local computer rather than pushing to Kubernetes with each change.\n",
      "#\n",
      "# To kill the port-forward processes us e.g. \"ps augxww | grep port-forward\"\n",
      "# to identify the processes ids\n",
      "#\n",
      "kubectl create namespace bigdata\n",
      "kubectl config set-context --current --namespace=bigdata\n",
      "\n",
      "# kubectl -n bigdata apply -f redis/redis-deployment.yaml\n",
      "# kubectl -n bigdata apply -f redis/redis-service.yaml\n",
      "\n",
      "kubectl -n bigdata apply -f rest/rest-deployment.yaml\n",
      "kubectl -n bigdata apply -f rest/rest-service.yaml\n",
      "kubectl -n bigdata apply -f rest/rest-ingress.yaml\n",
      "\n",
      "kubectl -n bigdata apply -f logs/logs-deployment.yaml\n",
      "\n",
      "kubectl -n bigdata apply -f worker/worker-deployment.yaml\n",
      "\n",
      "kubectl -n bigdata apply -f mongodb/ConfigMap.yaml\n",
      "kubectl -n bigdata apply -f mongodb/PersistentVolumeClaim.yaml\n",
      "kubectl -n bigdata apply -f mongodb/PersistentVolume.yaml\n",
      "kubectl -n bigdata apply -f mongodb/Secret.yaml\n",
      "kubectl -n bigdata apply -f mongodb/Service.yaml\n",
      "kubectl -n bigdata apply -f mongodb/StatefulSet.yaml\n",
      "kubectl -n bigdata apply -f mongodb/StorageClass.yaml\n",
      "\n",
      "\n",
      "#kubectl port-forward --address 0.0.0.0 service/redis 6379:6379 &\n",
      "kubectl port-forward --address 0.0.0.0 service/mongodb-test 27018:27017 &namespace/bigdata created\n",
      "Context \"docker-desktop\" modified.\n",
      "deployment.apps/rest-deployment created\n",
      "service/rest-svc created\n",
      "deployment.apps/logs created\n",
      "deployment.apps/worker-deployment created\n",
      "configmap/mongodb-configmap created\n",
      "persistentvolumeclaim/mongodb-pvc created\n",
      "persistentvolume/mongodb-pv created\n",
      "secret/mongodb-secret created\n",
      "service/mongodb-test created\n",
      "statefulset.apps/mongodb-test created\n",
      "storageclass.storage.k8s.io/mongodb-storageclass created\n"
     ]
    },
    {
     "name": "stderr",
     "output_type": "stream",
     "text": [
      "Error from server (BadRequest): error when creating \"rest/rest-ingress.yaml\": admission webhook \"validate.nginx.ingress.kubernetes.io\" denied the request: host \"localhost\" and path \"/\" is already defined in ingress spotify/frontend-ingress\n",
      "error: Service mongodb-test does not have a service port 27017\n"
     ]
    }
   ],
   "source": [
    "%%sh\n",
    "cat deploy-local-dev.sh \n",
    "./deploy-local-dev.sh"
   ]
  },
  {
   "cell_type": "code",
   "execution_count": 1,
   "id": "aa1f2255-26bd-41d1-9583-149deda5f322",
   "metadata": {},
   "outputs": [],
   "source": [
    "f = open(\"a.txt\",\"r\")"
   ]
  },
  {
   "cell_type": "code",
   "execution_count": 2,
   "id": "c8c81a0d-09c9-448f-b0a2-6187968504de",
   "metadata": {},
   "outputs": [
    {
     "name": "stdout",
     "output_type": "stream",
     "text": [
      "asd\n",
      "bsd\n"
     ]
    }
   ],
   "source": [
    "print(f.read())"
   ]
  },
  {
   "cell_type": "code",
   "execution_count": 3,
   "id": "75e5a908-0ab8-4649-aca9-95d818781022",
   "metadata": {},
   "outputs": [
    {
     "name": "stdout",
     "output_type": "stream",
     "text": [
      "\n"
     ]
    }
   ],
   "source": [
    "print(f.read())\n"
   ]
  },
  {
   "cell_type": "code",
   "execution_count": 4,
   "id": "403b3200-fa30-4807-b766-a3fe8bbec7bf",
   "metadata": {},
   "outputs": [],
   "source": [
    "g = open(\"a.txt\",\"r\")"
   ]
  },
  {
   "cell_type": "code",
   "execution_count": 5,
   "id": "e60c0f2a-eb74-4aa0-a560-3d663d523c36",
   "metadata": {},
   "outputs": [
    {
     "name": "stdout",
     "output_type": "stream",
     "text": [
      "asd\n",
      "bsd\n"
     ]
    }
   ],
   "source": [
    "print(g.read())\n"
   ]
  },
  {
   "cell_type": "code",
   "execution_count": 6,
   "id": "17cd8436-7369-4a28-b773-dcfc6402bdc8",
   "metadata": {},
   "outputs": [
    {
     "name": "stdout",
     "output_type": "stream",
     "text": [
      "\n"
     ]
    }
   ],
   "source": [
    "print(g.read())"
   ]
  },
  {
   "cell_type": "code",
   "execution_count": 8,
   "id": "10a0d069-5d0e-48b4-bfa4-0649ddb3b5f1",
   "metadata": {},
   "outputs": [],
   "source": [
    "a={*range(3), *range(5)}"
   ]
  },
  {
   "cell_type": "code",
   "execution_count": 9,
   "id": "c3e0832a-3582-4048-8fe9-4e0eb82dd0e2",
   "metadata": {},
   "outputs": [
    {
     "data": {
      "text/plain": [
       "{0, 1, 2, 3, 4}"
      ]
     },
     "execution_count": 9,
     "metadata": {},
     "output_type": "execute_result"
    }
   ],
   "source": [
    "a"
   ]
  },
  {
   "cell_type": "code",
   "execution_count": null,
   "id": "716ae875-c85f-4009-a2ec-391588fb6279",
   "metadata": {},
   "outputs": [],
   "source": []
  }
 ],
 "metadata": {
  "kernelspec": {
   "display_name": "Python 3",
   "language": "python",
   "name": "python3"
  },
  "language_info": {
   "codemirror_mode": {
    "name": "ipython",
    "version": 3
   },
   "file_extension": ".py",
   "mimetype": "text/x-python",
   "name": "python",
   "nbconvert_exporter": "python",
   "pygments_lexer": "ipython3",
   "version": "3.8.8"
  }
 },
 "nbformat": 4,
 "nbformat_minor": 5
}
